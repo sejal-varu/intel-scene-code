{
 "cells": [
  {
   "cell_type": "markdown",
   "metadata": {
    "colab_type": "text",
    "id": "tbqsZ37jw1fj"
   },
   "source": [
    "## Seperate test images into train/test folder"
   ]
  },
  {
   "cell_type": "code",
   "execution_count": null,
   "metadata": {
    "colab": {},
    "colab_type": "code",
    "id": "DkMLGxAGvImI"
   },
   "outputs": [],
   "source": [
    "import shutil\n",
    "import pandas as pd\n",
    "test_df = pd.read_csv('test/test_WyRytb0.csv')\n",
    "!mkdir train/test\n",
    "[shutil.copy('train/train/'+ i, 'train/test') for i in test_df['image_name'].tolist()]"
   ]
  },
  {
   "cell_type": "markdown",
   "metadata": {
    "colab_type": "text",
    "id": "v_hRTSCAw-2e"
   },
   "source": [
    "## We need resnet50_places365 model, lets download it"
   ]
  },
  {
   "cell_type": "code",
   "execution_count": null,
   "metadata": {
    "colab": {
     "base_uri": "https://localhost:8080/",
     "height": 208
    },
    "colab_type": "code",
    "executionInfo": {
     "elapsed": 5693,
     "status": "ok",
     "timestamp": 1554701836097,
     "user": {
      "displayName": "Sejal Shah",
      "photoUrl": "",
      "userId": "03598470140706879830"
     },
     "user_tz": -330
    },
    "id": "z-Qu3_RouGIK",
    "outputId": "b2abeca2-eee4-4ce9-af94-4f53d3ed535d"
   },
   "outputs": [],
   "source": [
    "! wget http://places2.csail.mit.edu/models_places365/resnet50_places365.pth.tar"
   ]
  },
  {
   "cell_type": "markdown",
   "metadata": {
    "colab_type": "text",
    "id": "SKneT6crxGXM"
   },
   "source": [
    "## Fast.ai implmentation"
   ]
  },
  {
   "cell_type": "code",
   "execution_count": 11,
   "metadata": {
    "colab": {},
    "colab_type": "code",
    "id": "AQ25OK2luLdz"
   },
   "outputs": [],
   "source": [
    "import fastai\n",
    "from fastai import *\n",
    "from fastai.vision import *"
   ]
  },
  {
   "cell_type": "code",
   "execution_count": 12,
   "metadata": {},
   "outputs": [],
   "source": [
    "def random_seed(seed_value, use_cuda):\n",
    "    np.random.seed(seed_value) # cpu vars\n",
    "    torch.manual_seed(seed_value) # cpu  vars\n",
    "    random.seed(seed_value) # Python\n",
    "    if use_cuda: \n",
    "        torch.cuda.manual_seed(seed_value)\n",
    "        torch.cuda.manual_seed_all(seed_value) # gpu vars\n",
    "        torch.backends.cudnn.deterministic = True  #needed\n",
    "        torch.backends.cudnn.benchmark = False\n",
    "\n",
    "random_seed(6, True)"
   ]
  },
  {
   "cell_type": "code",
   "execution_count": 13,
   "metadata": {
    "colab": {},
    "colab_type": "code",
    "id": "l4YbQ4qEuTgV"
   },
   "outputs": [],
   "source": [
    "image_path = 'train/'\n",
    "image_folder = 'train/'\n",
    "train_csv = 'train.csv'\n",
    "test_image_folder = 'test/'\n",
    "test_csv = 'test_WyRytb0.csv'"
   ]
  },
  {
   "cell_type": "code",
   "execution_count": 14,
   "metadata": {
    "colab": {
     "base_uri": "https://localhost:8080/",
     "height": 399
    },
    "colab_type": "code",
    "executionInfo": {
     "elapsed": 1759,
     "status": "ok",
     "timestamp": 1554701849186,
     "user": {
      "displayName": "Sejal Shah",
      "photoUrl": "",
      "userId": "03598470140706879830"
     },
     "user_tz": -330
    },
    "id": "AAv4nTRSuTsH",
    "outputId": "083cc322-c937-4afd-870a-b86b4f5bedee"
   },
   "outputs": [
    {
     "data": {
      "text/plain": [
       "ImageDataBunch;\n",
       "\n",
       "Train: LabelList (13628 items)\n",
       "x: ImageList\n",
       "Image (3, 224, 224),Image (3, 224, 224),Image (3, 224, 224),Image (3, 224, 224),Image (3, 224, 224)\n",
       "y: CategoryList\n",
       "0,5,4,1,5\n",
       "Path: train;\n",
       "\n",
       "Valid: LabelList (3406 items)\n",
       "x: ImageList\n",
       "Image (3, 224, 224),Image (3, 224, 224),Image (3, 224, 224),Image (3, 224, 224),Image (3, 224, 224)\n",
       "y: CategoryList\n",
       "0,5,5,1,5\n",
       "Path: train;\n",
       "\n",
       "Test: LabelList (7301 items)\n",
       "x: ImageList\n",
       "Image (3, 224, 224),Image (3, 224, 224),Image (3, 224, 224),Image (3, 224, 224),Image (3, 224, 224)\n",
       "y: EmptyLabelList\n",
       ",,,,\n",
       "Path: train"
      ]
     },
     "execution_count": 14,
     "metadata": {},
     "output_type": "execute_result"
    }
   ],
   "source": [
    "data = ImageDataBunch.from_csv(path=image_path, \n",
    "                               folder=image_folder, \n",
    "                               csv_labels=train_csv, \n",
    "                               label_col=1, bs=32, \n",
    "                               test= test_image_folder, \n",
    "                               size=224, \n",
    "                               num_workers=4, \n",
    "                               ds_tfms=get_transforms())\n",
    "data.normalize(imagenet_stats)"
   ]
  },
  {
   "cell_type": "code",
   "execution_count": 15,
   "metadata": {
    "colab": {},
    "colab_type": "code",
    "id": "wmZgFtC6uT3N"
   },
   "outputs": [],
   "source": [
    "def _load_model(directory,strict_loading=True,**kwargs):\n",
    "  if isinstance(directory,dict):\n",
    "      state_dict = directory\n",
    "  else:           \n",
    "      state_dict = torch.load(directory, map_location=lambda storage, loc: storage)\n",
    "  new_state_dict = OrderedDict()\n",
    "\n",
    "  for k, v in state_dict['state_dict'].items():\n",
    "      if k[:7] == 'module.':\n",
    "          name = k[7:]\n",
    "      else:\n",
    "          name = k\n",
    "      new_state_dict[name] = v\n",
    "  return new_state_dict"
   ]
  },
  {
   "cell_type": "code",
   "execution_count": 16,
   "metadata": {
    "colab": {},
    "colab_type": "code",
    "id": "ZF12KYMMuULh"
   },
   "outputs": [],
   "source": [
    "place365weights = _load_model('resnet50_places365.pth.tar')\n",
    "\n",
    "model = models.resnet50()\n",
    "model.fc = torch.nn.Linear(2048, 365)\n",
    "model.load_state_dict (place365weights)\n",
    "\n",
    "def fetch_model(pretrained):\n",
    "  return model\n",
    "\n",
    "learn = cnn_learner(data, fetch_model, metrics=accuracy)\n",
    "\n"
   ]
  },
  {
   "cell_type": "code",
   "execution_count": 17,
   "metadata": {
    "colab": {
     "base_uri": "https://localhost:8080/",
     "height": 230
    },
    "colab_type": "code",
    "id": "SK04OMoDugCI",
    "outputId": "7897ab85-60e4-4574-c437-9fac38201b68"
   },
   "outputs": [
    {
     "data": {
      "text/html": [
       "Total time: 05:07 <p><table border=\"1\" class=\"dataframe\">\n",
       "  <thead>\n",
       "    <tr style=\"text-align: left;\">\n",
       "      <th>epoch</th>\n",
       "      <th>train_loss</th>\n",
       "      <th>valid_loss</th>\n",
       "      <th>accuracy</th>\n",
       "      <th>time</th>\n",
       "    </tr>\n",
       "  </thead>\n",
       "  <tbody>\n",
       "    <tr>\n",
       "      <td>0</td>\n",
       "      <td>0.275921</td>\n",
       "      <td>0.190008</td>\n",
       "      <td>0.932178</td>\n",
       "      <td>01:00</td>\n",
       "    </tr>\n",
       "    <tr>\n",
       "      <td>1</td>\n",
       "      <td>0.241505</td>\n",
       "      <td>0.165714</td>\n",
       "      <td>0.941574</td>\n",
       "      <td>01:02</td>\n",
       "    </tr>\n",
       "    <tr>\n",
       "      <td>2</td>\n",
       "      <td>0.216683</td>\n",
       "      <td>0.154384</td>\n",
       "      <td>0.945684</td>\n",
       "      <td>01:01</td>\n",
       "    </tr>\n",
       "    <tr>\n",
       "      <td>3</td>\n",
       "      <td>0.168585</td>\n",
       "      <td>0.143512</td>\n",
       "      <td>0.950675</td>\n",
       "      <td>01:01</td>\n",
       "    </tr>\n",
       "    <tr>\n",
       "      <td>4</td>\n",
       "      <td>0.146840</td>\n",
       "      <td>0.138938</td>\n",
       "      <td>0.951850</td>\n",
       "      <td>01:01</td>\n",
       "    </tr>\n",
       "  </tbody>\n",
       "</table>"
      ],
      "text/plain": [
       "<IPython.core.display.HTML object>"
      ]
     },
     "metadata": {},
     "output_type": "display_data"
    }
   ],
   "source": [
    "learn.fit_one_cycle(5)"
   ]
  },
  {
   "cell_type": "code",
   "execution_count": 18,
   "metadata": {
    "colab": {
     "base_uri": "https://localhost:8080/",
     "height": 34
    },
    "colab_type": "code",
    "id": "wbY17758ugYQ",
    "outputId": "2919e209-1255-4491-9edc-7f9bc3522d6a"
   },
   "outputs": [
    {
     "data": {
      "text/html": [],
      "text/plain": [
       "<IPython.core.display.HTML object>"
      ]
     },
     "metadata": {},
     "output_type": "display_data"
    },
    {
     "name": "stdout",
     "output_type": "stream",
     "text": [
      "LR Finder is complete, type {learner_name}.recorder.plot() to see the graph.\n"
     ]
    }
   ],
   "source": [
    "learn.lr_find()"
   ]
  },
  {
   "cell_type": "code",
   "execution_count": 19,
   "metadata": {
    "colab": {
     "base_uri": "https://localhost:8080/",
     "height": 361
    },
    "colab_type": "code",
    "id": "pc3CSZzGuglO",
    "outputId": "6ec80b38-1bdb-4b79-ff0f-580fd4609eae"
   },
   "outputs": [
    {
     "data": {
      "image/png": "[encoded data removed]",
      "text/plain": [
       "<Figure size 432x288 with 1 Axes>"
      ]
     },
     "metadata": {
      "needs_background": "light"
     },
     "output_type": "display_data"
    }
   ],
   "source": [
    "learn.recorder.plot()"
   ]
  },
  {
   "cell_type": "code",
   "execution_count": 20,
   "metadata": {
    "colab": {
     "base_uri": "https://localhost:8080/",
     "height": 324
    },
    "colab_type": "code",
    "id": "aTVlfJeyugz2",
    "outputId": "e4619fdf-78e2-4d09-b626-a2ba261c6ccc"
   },
   "outputs": [
    {
     "data": {
      "text/html": [
       "Total time: 05:08 <p><table border=\"1\" class=\"dataframe\">\n",
       "  <thead>\n",
       "    <tr style=\"text-align: left;\">\n",
       "      <th>epoch</th>\n",
       "      <th>train_loss</th>\n",
       "      <th>valid_loss</th>\n",
       "      <th>accuracy</th>\n",
       "      <th>time</th>\n",
       "    </tr>\n",
       "  </thead>\n",
       "  <tbody>\n",
       "    <tr>\n",
       "      <td>0</td>\n",
       "      <td>0.153153</td>\n",
       "      <td>0.138697</td>\n",
       "      <td>0.952437</td>\n",
       "      <td>01:00</td>\n",
       "    </tr>\n",
       "    <tr>\n",
       "      <td>1</td>\n",
       "      <td>0.140121</td>\n",
       "      <td>0.140534</td>\n",
       "      <td>0.952437</td>\n",
       "      <td>01:01</td>\n",
       "    </tr>\n",
       "    <tr>\n",
       "      <td>2</td>\n",
       "      <td>0.140971</td>\n",
       "      <td>0.139896</td>\n",
       "      <td>0.949794</td>\n",
       "      <td>01:02</td>\n",
       "    </tr>\n",
       "    <tr>\n",
       "      <td>3</td>\n",
       "      <td>0.162971</td>\n",
       "      <td>0.137602</td>\n",
       "      <td>0.950675</td>\n",
       "      <td>01:01</td>\n",
       "    </tr>\n",
       "    <tr>\n",
       "      <td>4</td>\n",
       "      <td>0.128626</td>\n",
       "      <td>0.140430</td>\n",
       "      <td>0.953318</td>\n",
       "      <td>01:02</td>\n",
       "    </tr>\n",
       "  </tbody>\n",
       "</table>"
      ],
      "text/plain": [
       "<IPython.core.display.HTML object>"
      ]
     },
     "metadata": {},
     "output_type": "display_data"
    }
   ],
   "source": [
    "learn.fit_one_cycle(5, max_lr=slice(1e-06, 1e-05))"
   ]
  },
  {
   "cell_type": "code",
   "execution_count": null,
   "metadata": {
    "colab": {},
    "colab_type": "code",
    "id": "MzRMYULDuv9n"
   },
   "outputs": [],
   "source": [
    "learn.save('model_resnet50_places356_augment')"
   ]
  },
  {
   "cell_type": "markdown",
   "metadata": {
    "colab_type": "text",
    "id": "CKYh6jaNu6Jl"
   },
   "source": [
    "## Predict with TTA"
   ]
  },
  {
   "cell_type": "code",
   "execution_count": null,
   "metadata": {
    "colab": {
     "base_uri": "https://localhost:8080/",
     "height": 40
    },
    "colab_type": "code",
    "id": "XK-DKa0IuwZK",
    "outputId": "cb958849-c9be-461e-a70f-47f2f672a33f"
   },
   "outputs": [],
   "source": [
    "tta_pred = learn.TTA(ds_type=DatasetType.Test)"
   ]
  },
  {
   "cell_type": "markdown",
   "metadata": {
    "colab_type": "text",
    "id": "A99UbbOj0OWY"
   },
   "source": [
    "## Generate submission file"
   ]
  },
  {
   "cell_type": "code",
   "execution_count": null,
   "metadata": {
    "colab": {},
    "colab_type": "code",
    "id": "nW1QiMniuwkc"
   },
   "outputs": [],
   "source": [
    "image_name = pd.Series(os.listdir('train/test/'), name='image_name')\n",
    "label = pd.Series(np.argmax(tta_pred[0], axis=1), name='label')\n",
    "submission_df = pd.concat([image_name, label], axis=1)\n",
    "submission_df.to_csv('submission_places365_tta.csv', index=False)"
   ]
  },
  {
   "cell_type": "code",
   "execution_count": null,
   "metadata": {
    "colab": {},
    "colab_type": "code",
    "id": "j42NC7ad60Eq"
   },
   "outputs": [],
   "source": []
  }
 ],
 "metadata": {
  "accelerator": "GPU",
  "colab": {
   "name": "Intel_Scene_Classification_submitted.ipynb",
   "provenance": [],
   "toc_visible": true,
   "version": "0.3.2"
  },
  "kernelspec": {
   "display_name": "Python 3",
   "language": "python",
   "name": "python3"
  },
  "language_info": {
   "codemirror_mode": {
    "name": "ipython",
    "version": 3
   },
   "file_extension": ".py",
   "mimetype": "text/x-python",
   "name": "python",
   "nbconvert_exporter": "python",
   "pygments_lexer": "ipython3",
   "version": "3.6.0"
  }
 },
 "nbformat": 4,
 "nbformat_minor": 1
}
