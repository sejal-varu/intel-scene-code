{
 "cells": [
  {
   "cell_type": "markdown",
   "metadata": {
    "colab_type": "text",
    "id": "tbqsZ37jw1fj"
   },
   "source": [
    "## Seperate test images into train/test folder"
   ]
  },
  {
   "cell_type": "code",
   "execution_count": 0,
   "metadata": {
    "colab": {},
    "colab_type": "code",
    "id": "DkMLGxAGvImI"
   },
   "outputs": [],
   "source": [
    "import shutil\n",
    "import pandas as pd\n",
    "test_df = pd.read_csv('test/test_WyRytb0.csv')\n",
    "!mkdir train/test\n",
    "[shutil.copy('train/train/'+ i, 'train/test') for i in test_df['image_name'].tolist()]"
   ]
  },
  {
   "cell_type": "markdown",
   "metadata": {
    "colab_type": "text",
    "id": "v_hRTSCAw-2e"
   },
   "source": [
    "## We need resnet50_places365 model, lets download it"
   ]
  },
  {
   "cell_type": "code",
   "execution_count": 2,
   "metadata": {
    "colab": {
     "base_uri": "https://localhost:8080/",
     "height": 208
    },
    "colab_type": "code",
    "collapsed": true,
    "id": "z-Qu3_RouGIK",
    "outputId": "b619312e-fa37-4143-998b-6da86303a8d7"
   },
   "outputs": [
    {
     "name": "stdout",
     "output_type": "stream",
     "text": [
      "--2019-04-01 12:11:26--  http://places2.csail.mit.edu/models_places365/resnet50_places365.pth.tar\n",
      "Resolving places2.csail.mit.edu (places2.csail.mit.edu)... 128.30.100.255\n",
      "Connecting to places2.csail.mit.edu (places2.csail.mit.edu)|128.30.100.255|:80... connected.\n",
      "HTTP request sent, awaiting response... 200 OK\n",
      "Length: 97270159 (93M) [application/x-tar]\n",
      "Saving to: ‘resnet50_places365.pth.tar.2’\n",
      "\n",
      "resnet50_places365. 100%[===================>]  92.76M  82.6MB/s    in 1.1s    \n",
      "\n",
      "2019-04-01 12:11:28 (82.6 MB/s) - ‘resnet50_places365.pth.tar.2’ saved [97270159/97270159]\n",
      "\n"
     ]
    }
   ],
   "source": [
    "! wget http://places2.csail.mit.edu/models_places365/resnet50_places365.pth.tar"
   ]
  },
  {
   "cell_type": "markdown",
   "metadata": {
    "colab_type": "text",
    "id": "SKneT6crxGXM"
   },
   "source": [
    "## Fast.ai implmentation"
   ]
  },
  {
   "cell_type": "code",
   "execution_count": 0,
   "metadata": {
    "colab": {},
    "colab_type": "code",
    "id": "AQ25OK2luLdz"
   },
   "outputs": [],
   "source": [
    "import fastai\n",
    "from fastai import *\n",
    "from fastai.vision import *"
   ]
  },
  {
   "cell_type": "code",
   "execution_count": null,
   "metadata": {},
   "outputs": [],
   "source": [
    "def random_seed(seed_value, use_cuda):\n",
    "    np.random.seed(seed_value) # cpu vars\n",
    "    torch.manual_seed(seed_value) # cpu  vars\n",
    "    random.seed(seed_value) # Python\n",
    "    if use_cuda: \n",
    "        torch.cuda.manual_seed(seed_value)\n",
    "        torch.cuda.manual_seed_all(seed_value) # gpu vars\n",
    "        torch.backends.cudnn.deterministic = True  #needed\n",
    "        torch.backends.cudnn.benchmark = False\n",
    "\n",
    "random_seed(42, True)"
   ]
  },
  {
   "cell_type": "code",
   "execution_count": 0,
   "metadata": {
    "colab": {},
    "colab_type": "code",
    "id": "l4YbQ4qEuTgV"
   },
   "outputs": [],
   "source": [
    "image_path = 'train/'\n",
    "image_folder = 'train/'\n",
    "train_csv = 'train.csv'\n",
    "test_image_folder = 'test/'\n",
    "test_csv = 'test_WyRytb0.csv'"
   ]
  },
  {
   "cell_type": "code",
   "execution_count": 4,
   "metadata": {
    "colab": {
     "base_uri": "https://localhost:8080/",
     "height": 399
    },
    "colab_type": "code",
    "id": "AAv4nTRSuTsH",
    "outputId": "2b4e7290-4bc8-42ba-e41d-56e175c1dfe9"
   },
   "outputs": [
    {
     "data": {
      "text/plain": [
       "ImageDataBunch;\n",
       "\n",
       "Train: LabelList (13628 items)\n",
       "x: ImageList\n",
       "Image (3, 224, 224),Image (3, 224, 224),Image (3, 224, 224),Image (3, 224, 224),Image (3, 224, 224)\n",
       "y: CategoryList\n",
       "4,5,4,1,5\n",
       "Path: train;\n",
       "\n",
       "Valid: LabelList (3406 items)\n",
       "x: ImageList\n",
       "Image (3, 224, 224),Image (3, 224, 224),Image (3, 224, 224),Image (3, 224, 224),Image (3, 224, 224)\n",
       "y: CategoryList\n",
       "2,0,0,0,1\n",
       "Path: train;\n",
       "\n",
       "Test: LabelList (7301 items)\n",
       "x: ImageList\n",
       "Image (3, 224, 224),Image (3, 224, 224),Image (3, 224, 224),Image (3, 224, 224),Image (3, 224, 224)\n",
       "y: EmptyLabelList\n",
       ",,,,\n",
       "Path: train"
      ]
     },
     "execution_count": 4,
     "metadata": {
      "tags": []
     },
     "output_type": "execute_result"
    }
   ],
   "source": [
    "data = ImageDataBunch.from_csv(path=image_path, \n",
    "                               folder=image_folder, \n",
    "                               csv_labels=train_csv, \n",
    "                               label_col=1, bs=32, \n",
    "                               test= test_image_folder, \n",
    "                               size=224, \n",
    "                               num_workers=4, \n",
    "                               ds_tfms=get_transforms())\n",
    "data.normalize(imagenet_stats)"
   ]
  },
  {
   "cell_type": "code",
   "execution_count": 0,
   "metadata": {
    "colab": {},
    "colab_type": "code",
    "id": "wmZgFtC6uT3N"
   },
   "outputs": [],
   "source": [
    "def _load_model(directory,strict_loading=True,**kwargs):\n",
    "  if isinstance(directory,dict):\n",
    "      state_dict = directory\n",
    "  else:           \n",
    "      state_dict = torch.load(directory, map_location=lambda storage, loc: storage)\n",
    "  new_state_dict = OrderedDict()\n",
    "\n",
    "  for k, v in state_dict['state_dict'].items():\n",
    "      if k[:7] == 'module.':\n",
    "          name = k[7:]\n",
    "      else:\n",
    "          name = k\n",
    "      new_state_dict[name] = v\n",
    "  return new_state_dict"
   ]
  },
  {
   "cell_type": "code",
   "execution_count": 0,
   "metadata": {
    "colab": {},
    "colab_type": "code",
    "id": "ZF12KYMMuULh"
   },
   "outputs": [],
   "source": [
    "place365weights = _load_model('resnet50_places365.pth.tar')\n",
    "\n",
    "model = models.resnet50()\n",
    "model.fc = torch.nn.Linear(2048, 365)\n",
    "model.load_state_dict (place365weights)\n",
    "\n",
    "def fetch_model(pretrained):\n",
    "  return model\n",
    "\n",
    "learn = cnn_learner(data, fetch_model, metrics=accuracy)\n",
    "\n"
   ]
  },
  {
   "cell_type": "code",
   "execution_count": 7,
   "metadata": {
    "colab": {
     "base_uri": "https://localhost:8080/",
     "height": 230
    },
    "colab_type": "code",
    "id": "SK04OMoDugCI",
    "outputId": "7897ab85-60e4-4574-c437-9fac38201b68"
   },
   "outputs": [
    {
     "data": {
      "text/html": [
       "Total time: 20:56 <p><table border=\"1\" class=\"dataframe\">\n",
       "  <thead>\n",
       "    <tr style=\"text-align: left;\">\n",
       "      <th>epoch</th>\n",
       "      <th>train_loss</th>\n",
       "      <th>valid_loss</th>\n",
       "      <th>accuracy</th>\n",
       "      <th>time</th>\n",
       "    </tr>\n",
       "  </thead>\n",
       "  <tbody>\n",
       "    <tr>\n",
       "      <td>0</td>\n",
       "      <td>0.280130</td>\n",
       "      <td>0.201155</td>\n",
       "      <td>0.931885</td>\n",
       "      <td>04:17</td>\n",
       "    </tr>\n",
       "    <tr>\n",
       "      <td>1</td>\n",
       "      <td>0.236962</td>\n",
       "      <td>0.175520</td>\n",
       "      <td>0.939225</td>\n",
       "      <td>04:09</td>\n",
       "    </tr>\n",
       "    <tr>\n",
       "      <td>2</td>\n",
       "      <td>0.217046</td>\n",
       "      <td>0.151093</td>\n",
       "      <td>0.944510</td>\n",
       "      <td>04:09</td>\n",
       "    </tr>\n",
       "    <tr>\n",
       "      <td>3</td>\n",
       "      <td>0.165516</td>\n",
       "      <td>0.144192</td>\n",
       "      <td>0.947152</td>\n",
       "      <td>04:09</td>\n",
       "    </tr>\n",
       "    <tr>\n",
       "      <td>4</td>\n",
       "      <td>0.151133</td>\n",
       "      <td>0.136393</td>\n",
       "      <td>0.951850</td>\n",
       "      <td>04:09</td>\n",
       "    </tr>\n",
       "  </tbody>\n",
       "</table>"
      ],
      "text/plain": [
       "<IPython.core.display.HTML object>"
      ]
     },
     "metadata": {
      "tags": []
     },
     "output_type": "display_data"
    }
   ],
   "source": [
    "learn.fit_one_cycle(5)"
   ]
  },
  {
   "cell_type": "code",
   "execution_count": 8,
   "metadata": {
    "colab": {
     "base_uri": "https://localhost:8080/",
     "height": 34
    },
    "colab_type": "code",
    "id": "wbY17758ugYQ",
    "outputId": "2919e209-1255-4491-9edc-7f9bc3522d6a"
   },
   "outputs": [
    {
     "data": {
      "text/html": [],
      "text/plain": [
       "<IPython.core.display.HTML object>"
      ]
     },
     "metadata": {
      "tags": []
     },
     "output_type": "display_data"
    },
    {
     "name": "stdout",
     "output_type": "stream",
     "text": [
      "LR Finder is complete, type {learner_name}.recorder.plot() to see the graph.\n"
     ]
    }
   ],
   "source": [
    "learn.lr_find()"
   ]
  },
  {
   "cell_type": "code",
   "execution_count": 9,
   "metadata": {
    "colab": {
     "base_uri": "https://localhost:8080/",
     "height": 361
    },
    "colab_type": "code",
    "id": "pc3CSZzGuglO",
    "outputId": "6ec80b38-1bdb-4b79-ff0f-580fd4609eae"
   },
   "outputs": [
    {
     "data": {
      "image/png": "[encoded data removed]",
      "text/plain": [
       "<Figure size 576x396 with 1 Axes>"
      ]
     },
     "metadata": {
      "tags": []
     },
     "output_type": "display_data"
    }
   ],
   "source": [
    "learn.recorder.plot()"
   ]
  },
  {
   "cell_type": "code",
   "execution_count": 10,
   "metadata": {
    "colab": {
     "base_uri": "https://localhost:8080/",
     "height": 324
    },
    "colab_type": "code",
    "id": "aTVlfJeyugz2",
    "outputId": "e4619fdf-78e2-4d09-b626-a2ba261c6ccc"
   },
   "outputs": [
    {
     "data": {
      "text/html": [
       "Total time: 33:17 <p><table border=\"1\" class=\"dataframe\">\n",
       "  <thead>\n",
       "    <tr style=\"text-align: left;\">\n",
       "      <th>epoch</th>\n",
       "      <th>train_loss</th>\n",
       "      <th>valid_loss</th>\n",
       "      <th>accuracy</th>\n",
       "      <th>time</th>\n",
       "    </tr>\n",
       "  </thead>\n",
       "  <tbody>\n",
       "    <tr>\n",
       "      <td>0</td>\n",
       "      <td>0.132003</td>\n",
       "      <td>0.134824</td>\n",
       "      <td>0.951262</td>\n",
       "      <td>04:09</td>\n",
       "    </tr>\n",
       "    <tr>\n",
       "      <td>1</td>\n",
       "      <td>0.145300</td>\n",
       "      <td>0.135145</td>\n",
       "      <td>0.951262</td>\n",
       "      <td>04:09</td>\n",
       "    </tr>\n",
       "    <tr>\n",
       "      <td>2</td>\n",
       "      <td>0.156531</td>\n",
       "      <td>0.133641</td>\n",
       "      <td>0.952143</td>\n",
       "      <td>04:09</td>\n",
       "    </tr>\n",
       "    <tr>\n",
       "      <td>3</td>\n",
       "      <td>0.149135</td>\n",
       "      <td>0.134930</td>\n",
       "      <td>0.951556</td>\n",
       "      <td>04:09</td>\n",
       "    </tr>\n",
       "    <tr>\n",
       "      <td>4</td>\n",
       "      <td>0.144831</td>\n",
       "      <td>0.133700</td>\n",
       "      <td>0.952143</td>\n",
       "      <td>04:09</td>\n",
       "    </tr>\n",
       "    <tr>\n",
       "      <td>5</td>\n",
       "      <td>0.142808</td>\n",
       "      <td>0.131720</td>\n",
       "      <td>0.951262</td>\n",
       "      <td>04:09</td>\n",
       "    </tr>\n",
       "    <tr>\n",
       "      <td>6</td>\n",
       "      <td>0.138480</td>\n",
       "      <td>0.130894</td>\n",
       "      <td>0.951556</td>\n",
       "      <td>04:09</td>\n",
       "    </tr>\n",
       "    <tr>\n",
       "      <td>7</td>\n",
       "      <td>0.143064</td>\n",
       "      <td>0.132763</td>\n",
       "      <td>0.953318</td>\n",
       "      <td>04:09</td>\n",
       "    </tr>\n",
       "  </tbody>\n",
       "</table>"
      ],
      "text/plain": [
       "<IPython.core.display.HTML object>"
      ]
     },
     "metadata": {
      "tags": []
     },
     "output_type": "display_data"
    }
   ],
   "source": [
    "learn.fit_one_cycle(8, max_lr=slice(1e-05, 1e-04))"
   ]
  },
  {
   "cell_type": "code",
   "execution_count": 0,
   "metadata": {
    "colab": {},
    "colab_type": "code",
    "id": "MzRMYULDuv9n"
   },
   "outputs": [],
   "source": [
    "learn.save('model_resnet50_places356_augment')"
   ]
  },
  {
   "cell_type": "markdown",
   "metadata": {
    "colab_type": "text",
    "id": "CKYh6jaNu6Jl"
   },
   "source": [
    "## Predict with TTA"
   ]
  },
  {
   "cell_type": "code",
   "execution_count": 12,
   "metadata": {
    "colab": {
     "base_uri": "https://localhost:8080/",
     "height": 40
    },
    "colab_type": "code",
    "id": "XK-DKa0IuwZK",
    "outputId": "cb958849-c9be-461e-a70f-47f2f672a33f"
   },
   "outputs": [
    {
     "data": {
      "text/html": [
       "Total time: 08:54 <p>"
      ],
      "text/plain": [
       "<IPython.core.display.HTML object>"
      ]
     },
     "metadata": {
      "tags": []
     },
     "output_type": "display_data"
    }
   ],
   "source": [
    "tta_pred = learn.TTA(ds_type=DatasetType.Test)"
   ]
  },
  {
   "cell_type": "markdown",
   "metadata": {
    "colab_type": "text",
    "id": "A99UbbOj0OWY"
   },
   "source": [
    "## Generate submission file"
   ]
  },
  {
   "cell_type": "code",
   "execution_count": 0,
   "metadata": {
    "colab": {},
    "colab_type": "code",
    "id": "nW1QiMniuwkc"
   },
   "outputs": [],
   "source": [
    "image_name = pd.Series(os.listdir('train/test/'), name='image_name')\n",
    "label = pd.Series(np.argmax(tta_pred[0], axis=1), name='label')\n",
    "submission_df = pd.concat([image_name, label], axis=1)\n",
    "submission_df.to_csv('submission_places365_tta.csv', index=False)"
   ]
  },
  {
   "cell_type": "code",
   "execution_count": 0,
   "metadata": {
    "colab": {},
    "colab_type": "code",
    "id": "j42NC7ad60Eq"
   },
   "outputs": [],
   "source": []
  }
 ],
 "metadata": {
  "accelerator": "GPU",
  "colab": {
   "name": "Intel_Scene_Classification.ipynb",
   "provenance": [],
   "version": "0.3.2"
  },
  "kernelspec": {
   "display_name": "Python 3",
   "language": "python",
   "name": "python3"
  },
  "language_info": {
   "codemirror_mode": {
    "name": "ipython",
    "version": 3
   },
   "file_extension": ".py",
   "mimetype": "text/x-python",
   "name": "python",
   "nbconvert_exporter": "python",
   "pygments_lexer": "ipython3",
   "version": "3.6.8"
  }
 },
 "nbformat": 4,
 "nbformat_minor": 1
}
